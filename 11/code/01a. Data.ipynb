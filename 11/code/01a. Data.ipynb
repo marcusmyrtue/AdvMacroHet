{
 "cells": [
  {
   "cell_type": "markdown",
   "metadata": {},
   "source": [
    "# Import"
   ]
  },
  {
   "cell_type": "code",
   "execution_count": 1,
   "metadata": {
    "execution": {
     "iopub.execute_input": "2022-11-30T21:55:48.797246Z",
     "iopub.status.busy": "2022-11-30T21:55:48.797246Z",
     "iopub.status.idle": "2022-11-30T21:55:50.108828Z",
     "shell.execute_reply": "2022-11-30T21:55:50.108828Z"
    }
   },
   "outputs": [],
   "source": [
    "%load_ext autoreload\n",
    "%autoreload 2\n",
    "\n",
    "import os\n",
    "import pickle\n",
    "import zipfile\n",
    "import urllib.request\n",
    "from datetime import datetime\n",
    "import pandas as pd\n",
    "import numpy as np\n",
    "\n",
    "from fredapi import Fred"
   ]
  },
  {
   "cell_type": "markdown",
   "metadata": {},
   "source": [
    "**Global settings:**"
   ]
  },
  {
   "cell_type": "code",
   "execution_count": 2,
   "metadata": {
    "execution": {
     "iopub.execute_input": "2022-11-30T21:55:50.108828Z",
     "iopub.status.busy": "2022-11-30T21:55:50.108828Z",
     "iopub.status.idle": "2022-11-30T21:55:50.202563Z",
     "shell.execute_reply": "2022-11-30T21:55:50.202563Z"
    }
   },
   "outputs": [],
   "source": [
    "DOWNLOAD_FRED = False # to re-download FRED data"
   ]
  },
  {
   "cell_type": "markdown",
   "metadata": {},
   "source": [
    "# Auxiliary functions"
   ]
  },
  {
   "cell_type": "markdown",
   "metadata": {},
   "source": [
    "**Functions:**"
   ]
  },
  {
   "cell_type": "code",
   "execution_count": 3,
   "metadata": {
    "execution": {
     "iopub.execute_input": "2022-11-30T21:55:50.202563Z",
     "iopub.status.busy": "2022-11-30T21:55:50.202563Z",
     "iopub.status.idle": "2022-11-30T21:55:50.296248Z",
     "shell.execute_reply": "2022-11-30T21:55:50.296248Z"
    }
   },
   "outputs": [],
   "source": [
    "def download_and_unzip(url,name):\n",
    "    \n",
    "    zipfilename = f'{os.getcwd()}/data/{name}.zip'\n",
    "    folder = f'{os.getcwd()}/data/{name}/'\n",
    "    \n",
    "    if os.path.isdir(folder): \n",
    "        print(f'data already downloaded and extracted to data/{name}/')\n",
    "        return\n",
    "    \n",
    "    # b. download\n",
    "    urllib.request.urlretrieve(url,zipfilename)\n",
    "    \n",
    "    # c. unzip\n",
    "    with zipfile.ZipFile(zipfilename) as file:\n",
    "        file.extractall(folder)\n",
    "        \n",
    "    print(f'downloaded and extracted to data/{name}/')\n",
    "        "
   ]
  },
  {
   "cell_type": "code",
   "execution_count": 4,
   "metadata": {
    "execution": {
     "iopub.execute_input": "2022-11-30T21:55:50.296248Z",
     "iopub.status.busy": "2022-11-30T21:55:50.296248Z",
     "iopub.status.idle": "2022-11-30T21:55:50.379073Z",
     "shell.execute_reply": "2022-11-30T21:55:50.379073Z"
    }
   },
   "outputs": [],
   "source": [
    "def resample_to_M(varQ):\n",
    "    \"\"\" resample from quarterly to monthly series \"\"\"\n",
    "    \n",
    "    # a. resample\n",
    "    varM = varQ[~varQ.isnull()].resample('M',label='left').first()\n",
    "    varM.index += pd.tseries.frequencies.to_offset('1D')\n",
    "    varM = varM.interpolate()\n",
    "    \n",
    "    # b. print\n",
    "    Q_index = varQ.index\n",
    "    M_index = varM.index\n",
    "    \n",
    "    print(f'{varname}: [{str(Q_index[0])[:-12]}:{str(Q_index[-1])[:-12]}] -> [{str(M_index[0])[:-12]}:{str(M_index[-1])[:-12]}]')   \n",
    "    \n",
    "    return varM\n"
   ]
  },
  {
   "cell_type": "code",
   "execution_count": 5,
   "metadata": {
    "execution": {
     "iopub.execute_input": "2022-11-30T21:55:50.379073Z",
     "iopub.status.busy": "2022-11-30T21:55:50.379073Z",
     "iopub.status.idle": "2022-11-30T21:55:50.472806Z",
     "shell.execute_reply": "2022-11-30T21:55:50.472806Z"
    }
   },
   "outputs": [],
   "source": [
    "def print_range(varname):\n",
    "    \n",
    "    I = ~np.isnan(data[varname].values)\n",
    "    index = data.index[I]\n",
    "        \n",
    "    print(f'{varname}: {str(index[0])[:-12]}:{str(index[-1])[:-12]}')\n",
    "        "
   ]
  },
  {
   "cell_type": "markdown",
   "metadata": {},
   "source": [
    "# Create data"
   ]
  },
  {
   "cell_type": "code",
   "execution_count": 6,
   "metadata": {
    "execution": {
     "iopub.execute_input": "2022-11-30T21:55:50.472806Z",
     "iopub.status.busy": "2022-11-30T21:55:50.472806Z",
     "iopub.status.idle": "2022-11-30T21:55:50.550915Z",
     "shell.execute_reply": "2022-11-30T21:55:50.550915Z"
    }
   },
   "outputs": [],
   "source": [
    "first = np.datetime64('1948-01')\n",
    "last = np.datetime64(datetime.today().strftime(\"%Y-%m\"))\n",
    "data = pd.DataFrame(index=np.arange(first,last+1))"
   ]
  },
  {
   "cell_type": "markdown",
   "metadata": {},
   "source": [
    "## FRED"
   ]
  },
  {
   "cell_type": "code",
   "execution_count": 7,
   "metadata": {
    "execution": {
     "iopub.execute_input": "2022-11-30T21:55:50.550915Z",
     "iopub.status.busy": "2022-11-30T21:55:50.550915Z",
     "iopub.status.idle": "2022-11-30T21:55:50.629023Z",
     "shell.execute_reply": "2022-11-30T21:55:50.629023Z"
    }
   },
   "outputs": [],
   "source": [
    "fredvars = [    \n",
    "    ('PCEPI',), # personal consumption deflator        \n",
    "    ('UNRATE','u'), # unemployment rate\n",
    "    ('FEDFUNDS','R'), # federal funds rate\n",
    "    ('INDPRO',), # industrial production\n",
    "    ('USREC',), # recession indicators\n",
    "]"
   ]
  },
  {
   "cell_type": "code",
   "execution_count": 8,
   "metadata": {
    "execution": {
     "iopub.execute_input": "2022-11-30T21:55:50.629023Z",
     "iopub.status.busy": "2022-11-30T21:55:50.629023Z",
     "iopub.status.idle": "2022-11-30T21:55:50.722758Z",
     "shell.execute_reply": "2022-11-30T21:55:50.722758Z"
    }
   },
   "outputs": [],
   "source": [
    "if DOWNLOAD_FRED:\n",
    "    \n",
    "    # a. setup API\n",
    "    fred = Fred(api_key='d72233f789a0e13feb3dcb06d86647ea')\n",
    "    \n",
    "    # b. setup data dict\n",
    "    data_fred = {}\n",
    "    data_fred['M'] = {}\n",
    "    data_fred['Q'] = {}\n",
    "    data_fred['A'] = {}\n",
    "    \n",
    "    # c. load each variable\n",
    "    for fredvar in fredvars:\n",
    "\n",
    "        # i. unpack\n",
    "        assert type(fredvar) is tuple\n",
    "        fredname = fredvar[0]\n",
    "        varname = fredname if len(fredvar) == 1 else fredvar[1]\n",
    "\n",
    "        # ii. print info\n",
    "        info = fred.get_series_info(fredname)\n",
    "\n",
    "        title = info['title']\n",
    "        freq = info['frequency_short']\n",
    "        start = info['observation_start']\n",
    "        end = info['observation_end']\n",
    "\n",
    "        print(f'{fredname:15s} {varname:25s} {title:90s} {start[:-3]} : {end[:-3]} [{freq}]')\n",
    "        \n",
    "        # iii. load data\n",
    "        data_fred[freq][varname] = fred.get_series(fredname).rename(varname)\n",
    "        \n",
    "    # d. save to disc\n",
    "    with open('data/data_fred.pickle','wb') as handle:\n",
    "        pickle.dump(data_fred,handle)\n",
    "        \n",
    "else:\n",
    "    \n",
    "    with open('data/data_fred.pickle','rb') as handle:\n",
    "        data_fred = pickle.load(handle)\n",
    "        "
   ]
  },
  {
   "cell_type": "markdown",
   "metadata": {},
   "source": [
    "**Add FRED data:**"
   ]
  },
  {
   "cell_type": "code",
   "execution_count": 9,
   "metadata": {
    "execution": {
     "iopub.execute_input": "2022-11-30T21:55:50.722758Z",
     "iopub.status.busy": "2022-11-30T21:55:50.722758Z",
     "iopub.status.idle": "2022-11-30T21:55:50.816494Z",
     "shell.execute_reply": "2022-11-30T21:55:50.816494Z"
    }
   },
   "outputs": [],
   "source": [
    "for i,(k,v) in enumerate(data_fred['M'].items()): data = data.join(v)"
   ]
  },
  {
   "cell_type": "markdown",
   "metadata": {},
   "source": [
    "**Ex post real interest rate:**"
   ]
  },
  {
   "cell_type": "code",
   "execution_count": 10,
   "metadata": {
    "execution": {
     "iopub.execute_input": "2022-11-30T21:55:50.816494Z",
     "iopub.status.busy": "2022-11-30T21:55:50.816494Z",
     "iopub.status.idle": "2022-11-30T21:55:50.925802Z",
     "shell.execute_reply": "2022-11-30T21:55:50.925802Z"
    }
   },
   "outputs": [],
   "source": [
    "data['Pi'] = ((data['PCEPI']/data['PCEPI'].shift(1))**12-1)*100\n",
    "data['RealR'] = data['R']-data['Pi'].shift(-1)"
   ]
  },
  {
   "cell_type": "markdown",
   "metadata": {},
   "source": [
    "**Logarithms:**"
   ]
  },
  {
   "cell_type": "code",
   "execution_count": 11,
   "metadata": {
    "execution": {
     "iopub.execute_input": "2022-11-30T21:55:50.925802Z",
     "iopub.status.busy": "2022-11-30T21:55:50.925802Z",
     "iopub.status.idle": "2022-11-30T21:55:51.012979Z",
     "shell.execute_reply": "2022-11-30T21:55:51.012979Z"
    }
   },
   "outputs": [],
   "source": [
    "for varname in ['INDPRO','PCEPI']:\n",
    "    data[f'log_{varname}'] = 100*np.log(data[varname])"
   ]
  },
  {
   "cell_type": "markdown",
   "metadata": {},
   "source": [
    "## Labor market flows data"
   ]
  },
  {
   "cell_type": "markdown",
   "metadata": {},
   "source": [
    "The data construction is documented in the repository [CPS-labor-market-flows](https://github.com/JeppeDruedahl/CPS-labor-market-flows)."
   ]
  },
  {
   "cell_type": "markdown",
   "metadata": {},
   "source": [
    "**Download:**"
   ]
  },
  {
   "cell_type": "code",
   "execution_count": 12,
   "metadata": {
    "execution": {
     "iopub.execute_input": "2022-11-30T21:55:51.012979Z",
     "iopub.status.busy": "2022-11-30T21:55:51.012979Z",
     "iopub.status.idle": "2022-11-30T21:55:51.935691Z",
     "shell.execute_reply": "2022-11-30T21:55:51.935691Z"
    }
   },
   "outputs": [
    {
     "name": "stdout",
     "output_type": "stream",
     "text": [
      "data/Q.p has been download\n"
     ]
    }
   ],
   "source": [
    "# a. download\n",
    "filename = 'data/Q.p'\n",
    "if not os.path.isdir(filename):\n",
    "    url = 'https://github.com/JeppeDruedahl/CPS-labor-market-flows/raw/main/Q.p'\n",
    "    urllib.request.urlretrieve(url,filename)\n",
    "    print(f'data/Q.p has been download')\n",
    "else:\n",
    "    print(f'data/Q.p has already been downloaded')\n",
    "    \n",
    "# b. open\n",
    "with open('data/Q.p', 'rb') as f:\n",
    "    Q = pickle.load(f)"
   ]
  },
  {
   "cell_type": "markdown",
   "metadata": {},
   "source": [
    "**Transfer to data:**"
   ]
  },
  {
   "cell_type": "code",
   "execution_count": 13,
   "metadata": {
    "execution": {
     "iopub.execute_input": "2022-11-30T21:55:51.981948Z",
     "iopub.status.busy": "2022-11-30T21:55:51.981948Z",
     "iopub.status.idle": "2022-11-30T21:55:52.095153Z",
     "shell.execute_reply": "2022-11-30T21:55:52.095153Z"
    }
   },
   "outputs": [
    {
     "name": "stdout",
     "output_type": "stream",
     "text": [
      "EE: 1967-06:2019-12\n",
      "EU: 1967-06:2019-12\n",
      "EI: 1967-06:2019-12\n",
      "UE: 1967-06:2019-12\n",
      "UU: 1967-06:2019-12\n",
      "UI: 1967-06:2019-12\n",
      "IE: 1967-06:2019-12\n",
      "IU: 1967-06:2019-12\n",
      "II: 1967-06:2019-12\n"
     ]
    }
   ],
   "source": [
    "for k,v in Q.items():\n",
    "    \n",
    "    # a. transfer\n",
    "    data[f'l_{k}'] = v\n",
    "    \n",
    "    # b. calculate monthly transition event probability \n",
    "    data[k] = 100*(1.0-np.exp(-v))\n",
    "    \n",
    "    print_range(k)"
   ]
  },
  {
   "cell_type": "markdown",
   "metadata": {},
   "source": [
    "**Implied durations:**"
   ]
  },
  {
   "cell_type": "code",
   "execution_count": 14,
   "metadata": {
    "execution": {
     "iopub.execute_input": "2022-11-30T21:55:52.095153Z",
     "iopub.status.busy": "2022-11-30T21:55:52.095153Z",
     "iopub.status.idle": "2022-11-30T21:55:52.173261Z",
     "shell.execute_reply": "2022-11-30T21:55:52.173261Z"
    }
   },
   "outputs": [],
   "source": [
    "data['dur_u'] = 1/data['l_UE']\n",
    "data['dur_e'] = 1/data['l_EU']"
   ]
  },
  {
   "cell_type": "markdown",
   "metadata": {},
   "source": [
    "## Data from Coibion"
   ]
  },
  {
   "cell_type": "markdown",
   "metadata": {},
   "source": [
    "**Note:** Original file downloaded from [http://doi.org/10.3886/E114243V1](http://doi.org/10.3886/E114243V1)."
   ]
  },
  {
   "cell_type": "code",
   "execution_count": 15,
   "metadata": {
    "execution": {
     "iopub.execute_input": "2022-11-30T21:55:52.173261Z",
     "iopub.status.busy": "2022-11-30T21:55:52.173261Z",
     "iopub.status.idle": "2022-11-30T21:55:53.013821Z",
     "shell.execute_reply": "2022-11-30T21:55:53.013821Z"
    }
   },
   "outputs": [
    {
     "name": "stdout",
     "output_type": "stream",
     "text": [
      "CRBCPI: 1960-01:2008-08\n"
     ]
    }
   ],
   "source": [
    "# a. load from excel\n",
    "index = np.arange(np.datetime64('1960-01'),np.datetime64('2008-08')+1)\n",
    "\n",
    "CRBCPI = pd.read_excel(\n",
    "    'data/114243-V1/AEJ_2010_0129_Data/Data_AEJ.xlsx',\n",
    "    sheet_name='MonthlyData',names=['CRBCPI'],\n",
    "    usecols='H',skiprows=6,nrows=index.size).squeeze(\"columns\")\n",
    "\n",
    "CRBCPI.index = index\n",
    "\n",
    "# b. add to data\n",
    "data['CRBCPI'] = CRBCPI\n",
    "print_range('CRBCPI')"
   ]
  },
  {
   "cell_type": "markdown",
   "metadata": {},
   "source": [
    "**Logarithm:**"
   ]
  },
  {
   "cell_type": "code",
   "execution_count": 16,
   "metadata": {
    "execution": {
     "iopub.execute_input": "2022-11-30T21:55:53.013821Z",
     "iopub.status.busy": "2022-11-30T21:55:53.013821Z",
     "iopub.status.idle": "2022-11-30T21:55:53.107554Z",
     "shell.execute_reply": "2022-11-30T21:55:53.107554Z"
    }
   },
   "outputs": [],
   "source": [
    "data['log_CRBCPI'] = 100*np.log(data['CRBCPI'])"
   ]
  },
  {
   "cell_type": "markdown",
   "metadata": {},
   "source": [
    "## Data from Miranda-Agrippino (Romer and Romer)"
   ]
  },
  {
   "cell_type": "markdown",
   "metadata": {},
   "source": [
    "**Download:**"
   ]
  },
  {
   "cell_type": "code",
   "execution_count": 17,
   "metadata": {
    "execution": {
     "iopub.execute_input": "2022-11-30T21:55:53.107554Z",
     "iopub.status.busy": "2022-11-30T21:55:53.107554Z",
     "iopub.status.idle": "2022-11-30T21:55:53.185665Z",
     "shell.execute_reply": "2022-11-30T21:55:53.185665Z"
    }
   },
   "outputs": [
    {
     "name": "stdout",
     "output_type": "stream",
     "text": [
      "data already downloaded and extracted to data/RomerRomer/\n"
     ]
    }
   ],
   "source": [
    "url = 'http://silviamirandaagrippino.com/s/Narrative-MP.zip'\n",
    "download_and_unzip(url,'RomerRomer')"
   ]
  },
  {
   "cell_type": "markdown",
   "metadata": {},
   "source": [
    "**Process and transfer to data:**"
   ]
  },
  {
   "cell_type": "code",
   "execution_count": 18,
   "metadata": {
    "execution": {
     "iopub.execute_input": "2022-11-30T21:55:53.185665Z",
     "iopub.status.busy": "2022-11-30T21:55:53.185665Z",
     "iopub.status.idle": "2022-11-30T21:55:53.341887Z",
     "shell.execute_reply": "2022-11-30T21:55:53.341887Z"
    }
   },
   "outputs": [
    {
     "name": "stdout",
     "output_type": "stream",
     "text": [
      "shock_RR: 1969-01:1996-12\n",
      "shock_MA: 1969-01:2007-12\n"
     ]
    }
   ],
   "source": [
    "# a. load\n",
    "data_RR_df = pd.read_excel(f'{os.getcwd()}/data/RomerRomer/Narrative MP/NarrativeRomerRomerShock.xlsx',skiprows=[0])\n",
    "data_RR_df.date = pd.to_datetime(data_RR_df.date,format='%YM%m')\n",
    "\n",
    "# b. update data\n",
    "data['shock_RR'] = pd.Series(data=data_RR_df['Romer & Romer (2004)'].values,index=data_RR_df.date)\n",
    "data['shock_MA'] = pd.Series(data=data_RR_df['Miranda-Agrippino (2014)'].values,index=data_RR_df.date)\n",
    "\n",
    "print_range('shock_RR')\n",
    "print_range('shock_MA')"
   ]
  },
  {
   "cell_type": "markdown",
   "metadata": {},
   "source": [
    "## Data from Regis Barnichon"
   ]
  },
  {
   "cell_type": "markdown",
   "metadata": {},
   "source": [
    "**Download:**"
   ]
  },
  {
   "cell_type": "code",
   "execution_count": 19,
   "metadata": {
    "execution": {
     "iopub.execute_input": "2022-11-30T21:55:53.341887Z",
     "iopub.status.busy": "2022-11-30T21:55:53.341887Z",
     "iopub.status.idle": "2022-11-30T21:55:53.451241Z",
     "shell.execute_reply": "2022-11-30T21:55:53.451241Z"
    }
   },
   "outputs": [
    {
     "name": "stdout",
     "output_type": "stream",
     "text": [
      "data loaded from data/data_RB.pickle\n"
     ]
    }
   ],
   "source": [
    "filepath = 'data/data_RB.pickle'\n",
    "if not os.path.isfile(filepath):\n",
    "    \n",
    "    # i. download\n",
    "    #data_RB_df = pd.read_csv('https://drive.google.com/file/d/1s9yGoAt6wfpKaBGkP7xV7Hvs7RVV9deS/view?usp=sharing',header=None,skiprows=7,delimiter='\\t')\n",
    "    data_RB_df = pd.read_csv('data/HWI_index.txt',header=None,skiprows=7,delimiter='\\t')\n",
    "    \n",
    "    # ii. structure\n",
    "    data_RB_df.columns = ['date','v']\n",
    "    data_RB_df.date = pd.to_datetime(data_RB_df.date,format='%YM%m')\n",
    "    \n",
    "    data_RB = {}\n",
    "    data_RB['v'] = pd.Series(data=data_RB_df.v.values,index=data_RB_df.date)\n",
    "    \n",
    "    # iii. save\n",
    "    with open(filepath,'wb') as handle:\n",
    "        pickle.dump(data_RB,handle)    \n",
    "    \n",
    "    del data_RB_df\n",
    "    \n",
    "    print(f'data downloaded and saved to {filepath}')\n",
    "    \n",
    "else:\n",
    "    \n",
    "    with open('data/data_RB.pickle', 'rb') as f:\n",
    "        data_RB = pickle.load(f)\n",
    "        \n",
    "    print(f'data loaded from {filepath}')"
   ]
  },
  {
   "cell_type": "markdown",
   "metadata": {},
   "source": [
    "**Transfer to data:**"
   ]
  },
  {
   "cell_type": "code",
   "execution_count": 20,
   "metadata": {
    "execution": {
     "iopub.execute_input": "2022-11-30T21:55:53.451241Z",
     "iopub.status.busy": "2022-11-30T21:55:53.451241Z",
     "iopub.status.idle": "2022-11-30T21:55:53.544975Z",
     "shell.execute_reply": "2022-11-30T21:55:53.544975Z"
    }
   },
   "outputs": [],
   "source": [
    "data['v'] = data_RB['v']"
   ]
  },
  {
   "cell_type": "markdown",
   "metadata": {},
   "source": [
    "**Logarithm:**"
   ]
  },
  {
   "cell_type": "code",
   "execution_count": 21,
   "metadata": {
    "execution": {
     "iopub.execute_input": "2022-11-30T21:55:53.544975Z",
     "iopub.status.busy": "2022-11-30T21:55:53.544975Z",
     "iopub.status.idle": "2022-11-30T21:55:53.638709Z",
     "shell.execute_reply": "2022-11-30T21:55:53.638709Z"
    }
   },
   "outputs": [],
   "source": [
    "data['log_v'] = 100*np.log(data['v'])"
   ]
  },
  {
   "cell_type": "markdown",
   "metadata": {},
   "source": [
    "## Tighetness"
   ]
  },
  {
   "cell_type": "code",
   "execution_count": 22,
   "metadata": {
    "execution": {
     "iopub.execute_input": "2022-11-30T21:55:53.638709Z",
     "iopub.status.busy": "2022-11-30T21:55:53.638709Z",
     "iopub.status.idle": "2022-11-30T21:55:53.732442Z",
     "shell.execute_reply": "2022-11-30T21:55:53.732442Z"
    }
   },
   "outputs": [],
   "source": [
    "data['theta'] = data['v']/data['u']\n",
    "data['log_theta'] = 100*np.log(data['theta'])"
   ]
  },
  {
   "cell_type": "markdown",
   "metadata": {},
   "source": [
    "# Data from Ramey and Fernald (qtr.)"
   ]
  },
  {
   "cell_type": "markdown",
   "metadata": {},
   "source": [
    "## Ramey"
   ]
  },
  {
   "cell_type": "code",
   "execution_count": 23,
   "metadata": {
    "execution": {
     "iopub.execute_input": "2022-11-30T21:55:53.732442Z",
     "iopub.status.busy": "2022-11-30T21:55:53.732442Z",
     "iopub.status.idle": "2022-11-30T21:55:53.841795Z",
     "shell.execute_reply": "2022-11-30T21:55:53.841795Z"
    }
   },
   "outputs": [
    {
     "name": "stdout",
     "output_type": "stream",
     "text": [
      "data already downloaded and extracted to data/Ramey_HOM_technology/\n"
     ]
    }
   ],
   "source": [
    "url = 'https://econweb.ucsd.edu/~vramey/research/Ramey_HOM_technology.zip'\n",
    "download_and_unzip(url,'Ramey_HOM_technology')"
   ]
  },
  {
   "cell_type": "code",
   "execution_count": 24,
   "metadata": {
    "execution": {
     "iopub.execute_input": "2022-11-30T21:55:53.841795Z",
     "iopub.status.busy": "2022-11-30T21:55:53.841795Z",
     "iopub.status.idle": "2022-11-30T21:55:54.094890Z",
     "shell.execute_reply": "2022-11-30T21:55:54.094890Z"
    }
   },
   "outputs": [],
   "source": [
    "data_Q = pd.read_excel('data/Ramey_HOM_technology/Technology_data.xlsx',sheet_name='techdat')"
   ]
  },
  {
   "cell_type": "code",
   "execution_count": 25,
   "metadata": {
    "execution": {
     "iopub.execute_input": "2022-11-30T21:55:54.094890Z",
     "iopub.status.busy": "2022-11-30T21:55:54.094890Z",
     "iopub.status.idle": "2022-11-30T21:55:54.188625Z",
     "shell.execute_reply": "2022-11-30T21:55:54.188625Z"
    }
   },
   "outputs": [],
   "source": [
    "year = np.floor(data_Q.quarter).astype('int').astype('str')\n",
    "quarter = (1+(data_Q.quarter-np.floor(data_Q.quarter))*4).astype('int').astype('str')\n",
    "data_Q['date'] = pd.to_datetime(year + '-Q' + quarter)\n",
    "data_Q = data_Q.set_index('date')"
   ]
  },
  {
   "cell_type": "markdown",
   "metadata": {},
   "source": [
    "Change bad naming:"
   ]
  },
  {
   "cell_type": "code",
   "execution_count": 26,
   "metadata": {
    "execution": {
     "iopub.execute_input": "2022-11-30T21:55:54.188625Z",
     "iopub.status.busy": "2022-11-30T21:55:54.188625Z",
     "iopub.status.idle": "2022-11-30T21:55:54.266736Z",
     "shell.execute_reply": "2022-11-30T21:55:54.266736Z"
    }
   },
   "outputs": [],
   "source": [
    "data_Q['poplev'] = data_Q['pop']\n",
    "del data_Q['pop']"
   ]
  },
  {
   "cell_type": "markdown",
   "metadata": {},
   "source": [
    "## Fernald"
   ]
  },
  {
   "cell_type": "code",
   "execution_count": 27,
   "metadata": {
    "execution": {
     "iopub.execute_input": "2022-11-30T21:55:54.266736Z",
     "iopub.status.busy": "2022-11-30T21:55:54.266736Z",
     "iopub.status.idle": "2022-11-30T21:55:54.360469Z",
     "shell.execute_reply": "2022-11-30T21:55:54.360469Z"
    }
   },
   "outputs": [],
   "source": [
    "url = 'https://drive.google.com/u/0/uc?id=1ezc7H70Rlnc7tGhB062ua0FG-eLmDJV6&export=download'\n",
    "filename = f'{os.getcwd()}/data/fenald.xlsx'\n",
    "if not os.path.isfile(filename):\n",
    "    urllib.request.urlretrieve(url,filename)"
   ]
  },
  {
   "cell_type": "code",
   "execution_count": 28,
   "metadata": {
    "execution": {
     "iopub.execute_input": "2022-11-30T21:55:54.360469Z",
     "iopub.status.busy": "2022-11-30T21:55:54.360469Z",
     "iopub.status.idle": "2022-11-30T21:55:54.563556Z",
     "shell.execute_reply": "2022-11-30T21:55:54.563556Z"
    }
   },
   "outputs": [],
   "source": [
    "df = pd.read_excel(f'{os.getcwd()}/data/fenald.xlsx',sheet_name='quarterly',skiprows=1,nrows=292)\n",
    "df.date = pd.to_datetime(df.date.str[:4] + df.date.str[-2:])\n",
    "df = df.set_index('date')\n",
    "data_Q['dtfp_util'] = df['dtfp_util']"
   ]
  },
  {
   "cell_type": "markdown",
   "metadata": {},
   "source": [
    "## Data from Haltiwanger (qtr.)"
   ]
  },
  {
   "cell_type": "markdown",
   "metadata": {},
   "source": [
    "**Download:**"
   ]
  },
  {
   "cell_type": "code",
   "execution_count": 29,
   "metadata": {
    "execution": {
     "iopub.execute_input": "2022-11-30T21:55:54.563556Z",
     "iopub.status.busy": "2022-11-30T21:55:54.563556Z",
     "iopub.status.idle": "2022-11-30T21:55:54.672913Z",
     "shell.execute_reply": "2022-11-30T21:55:54.672913Z"
    }
   },
   "outputs": [
    {
     "name": "stdout",
     "output_type": "stream",
     "text": [
      "data loaded from data/data_haltiwanger.pickle\n"
     ]
    }
   ],
   "source": [
    "filepath = 'data/data_haltiwanger.pickle'\n",
    "if not os.path.isfile(filepath):\n",
    "    \n",
    "    data_haltiwanger = pd.read_excel('http://econweb.umd.edu/~haltiwan/download/DFH_JEP_JobFlows/DFH_JEP_2006_Job_Flows.xls',\n",
    "                                     skiprows=4,sheet_name='Final Estimates')\n",
    "    data_haltiwanger['year'] = data_haltiwanger.QTR.astype('str').str[:4]\n",
    "    data_haltiwanger['quarter'] = data_haltiwanger.QTR.astype('str').str[4]\n",
    "    data_haltiwanger['date'] = pd.to_datetime(data_haltiwanger['year'] + '-Q' + data_haltiwanger['quarter'])\n",
    "    \n",
    "    # save to disc\n",
    "    with open(filepath,'wb') as handle:\n",
    "        pickle.dump(data_haltiwanger,handle)\n",
    "        \n",
    "    print(f'data downloaded and saved to {filepath}')\n",
    "    \n",
    "else:\n",
    "    \n",
    "    with open(filepath, 'rb') as f:\n",
    "        data_haltiwanger = pickle.load(f)\n",
    "        \n",
    "    print(f'data loaded from {filepath}')        "
   ]
  },
  {
   "cell_type": "markdown",
   "metadata": {},
   "source": [
    "**Proces:**"
   ]
  },
  {
   "cell_type": "code",
   "execution_count": 30,
   "metadata": {
    "execution": {
     "iopub.execute_input": "2022-11-30T21:55:54.672913Z",
     "iopub.status.busy": "2022-11-30T21:55:54.672913Z",
     "iopub.status.idle": "2022-11-30T21:55:54.782266Z",
     "shell.execute_reply": "2022-11-30T21:55:54.782266Z"
    }
   },
   "outputs": [],
   "source": [
    "jd = data_Q['jd'] = pd.Series(data=data_haltiwanger.JD.values,index=data_haltiwanger.date)\n",
    "jc = data_Q['jc'] = pd.Series(data=data_haltiwanger.JC.values,index=data_haltiwanger.date)"
   ]
  },
  {
   "cell_type": "markdown",
   "metadata": {},
   "source": [
    "**Resample to monthly**"
   ]
  },
  {
   "cell_type": "code",
   "execution_count": 31,
   "metadata": {
    "execution": {
     "iopub.execute_input": "2022-11-30T21:55:54.782266Z",
     "iopub.status.busy": "2022-11-30T21:55:54.782266Z",
     "iopub.status.idle": "2022-11-30T21:55:54.891619Z",
     "shell.execute_reply": "2022-11-30T21:55:54.891619Z"
    }
   },
   "outputs": [
    {
     "name": "stdout",
     "output_type": "stream",
     "text": [
      "PCEPI: [1947-01:2005-01] -> [1947-01:2005-01]\n",
      "PCEPI: [1947-01:2005-01] -> [1947-01:2005-01]\n"
     ]
    }
   ],
   "source": [
    "data['jd'] = resample_to_M(jd)\n",
    "data['jc'] = resample_to_M(jc)"
   ]
  },
  {
   "cell_type": "code",
   "execution_count": 32,
   "metadata": {
    "execution": {
     "iopub.execute_input": "2022-11-30T21:55:54.891619Z",
     "iopub.status.busy": "2022-11-30T21:55:54.891619Z",
     "iopub.status.idle": "2022-11-30T21:55:54.978699Z",
     "shell.execute_reply": "2022-11-30T21:55:54.978699Z"
    }
   },
   "outputs": [
    {
     "name": "stdout",
     "output_type": "stream",
     "text": [
      "jc: 1948-01:2005-01\n",
      "jd: 1948-01:2005-01\n"
     ]
    }
   ],
   "source": [
    "for varname in ['jc','jd']: print_range(varname)"
   ]
  },
  {
   "cell_type": "markdown",
   "metadata": {},
   "source": [
    "**Logarithms**"
   ]
  },
  {
   "cell_type": "code",
   "execution_count": 33,
   "metadata": {
    "execution": {
     "iopub.execute_input": "2022-11-30T21:55:54.981875Z",
     "iopub.status.busy": "2022-11-30T21:55:54.981875Z",
     "iopub.status.idle": "2022-11-30T21:55:55.059989Z",
     "shell.execute_reply": "2022-11-30T21:55:55.059989Z"
    }
   },
   "outputs": [],
   "source": [
    "for varname in ['jc','jd']:\n",
    "    data[f'log_{varname}'] = 100*np.log(data[varname])"
   ]
  },
  {
   "cell_type": "markdown",
   "metadata": {},
   "source": [
    "## Add monthly data to quarterly data"
   ]
  },
  {
   "cell_type": "code",
   "execution_count": 34,
   "metadata": {
    "execution": {
     "iopub.execute_input": "2022-11-30T21:55:55.059989Z",
     "iopub.status.busy": "2022-11-30T21:55:55.059989Z",
     "iopub.status.idle": "2022-11-30T21:55:55.153764Z",
     "shell.execute_reply": "2022-11-30T21:55:55.153764Z"
    }
   },
   "outputs": [],
   "source": [
    "data_Q_from_m = data.resample('Q',label='left').mean()\n",
    "data_Q_from_m.index += pd.tseries.frequencies.to_offset('1D')"
   ]
  },
  {
   "cell_type": "code",
   "execution_count": 35,
   "metadata": {
    "execution": {
     "iopub.execute_input": "2022-11-30T21:55:55.153764Z",
     "iopub.status.busy": "2022-11-30T21:55:55.153764Z",
     "iopub.status.idle": "2022-11-30T21:55:55.263119Z",
     "shell.execute_reply": "2022-11-30T21:55:55.263119Z"
    }
   },
   "outputs": [],
   "source": [
    "for varname in data_Q_from_m:\n",
    "    if not varname in data_Q:\n",
    "        data_Q[varname] = data_Q_from_m[varname]"
   ]
  },
  {
   "cell_type": "markdown",
   "metadata": {},
   "source": [
    "## Dump"
   ]
  },
  {
   "cell_type": "code",
   "execution_count": 36,
   "metadata": {
    "execution": {
     "iopub.execute_input": "2022-11-30T21:55:55.263119Z",
     "iopub.status.busy": "2022-11-30T21:55:55.263119Z",
     "iopub.status.idle": "2022-11-30T21:55:55.357185Z",
     "shell.execute_reply": "2022-11-30T21:55:55.357185Z"
    }
   },
   "outputs": [],
   "source": [
    "with open('data/data.p','wb') as f:\n",
    "    pickle.dump(data,f)"
   ]
  },
  {
   "cell_type": "code",
   "execution_count": 37,
   "metadata": {
    "execution": {
     "iopub.execute_input": "2022-11-30T21:55:55.364155Z",
     "iopub.status.busy": "2022-11-30T21:55:55.364155Z",
     "iopub.status.idle": "2022-11-30T21:55:55.440812Z",
     "shell.execute_reply": "2022-11-30T21:55:55.440812Z"
    }
   },
   "outputs": [],
   "source": [
    "with open('data/data_Q.p','wb') as f:\n",
    "    pickle.dump(data_Q,f)"
   ]
  }
 ],
 "metadata": {
  "kernelspec": {
   "display_name": "Python 3 (ipykernel)",
   "language": "python",
   "name": "python3"
  },
  "language_info": {
   "codemirror_mode": {
    "name": "ipython",
    "version": 3
   },
   "file_extension": ".py",
   "mimetype": "text/x-python",
   "name": "python",
   "nbconvert_exporter": "python",
   "pygments_lexer": "ipython3",
   "version": "3.9.13"
  },
  "toc-autonumbering": true
 },
 "nbformat": 4,
 "nbformat_minor": 4
}
