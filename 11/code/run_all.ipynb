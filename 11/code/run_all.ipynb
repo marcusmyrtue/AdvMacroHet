{
 "cells": [
  {
   "cell_type": "code",
   "execution_count": 1,
   "id": "af33ddc5-87d5-4156-a416-25b702ad0063",
   "metadata": {},
   "outputs": [],
   "source": [
    "import os, glob"
   ]
  },
  {
   "cell_type": "code",
   "execution_count": 2,
   "id": "6f78489a-a06d-40b2-87c4-7e52f4b5279b",
   "metadata": {},
   "outputs": [],
   "source": [
    "def run_jupyter(filename):\n",
    "    out = os.system(f'jupyter nbconvert --to notebook --execute --ExecutePreprocessor.timeout=-1 --inplace \"{filename}\"')\n",
    "    assert out == 0 , f'Failed to call external jupyter notebook from python. Please manually open and execute the notebook {filename}'"
   ]
  },
  {
   "cell_type": "code",
   "execution_count": 3,
   "id": "536e299d-d812-4fd8-9321-a143dd911542",
   "metadata": {},
   "outputs": [
    {
     "name": "stdout",
     "output_type": "stream",
     "text": [
      "01a. Data.ipynb\n",
      "01b. Monetary IRFs.ipynb\n",
      "01b. Technology IRFs.ipynb\n",
      "01b. Unconditional investigation.ipynb\n",
      "02a. Main results.ipynb\n",
      "02b. Policy.ipynb\n",
      "02c. Addendums.ipynb\n",
      "02c. PE details.ipynb\n",
      "02c. Policy - mechanic cost.ipynb\n",
      "02c. Robustness.ipynb\n",
      "02c. SAM details.ipynb\n",
      "02c. Separation and entry elasticities.ipynb\n",
      "02c. Wages.ipynb\n"
     ]
    }
   ],
   "source": [
    "for filename in glob.glob('*.ipynb'):\n",
    "    if 'run_all' in filename: continue\n",
    "    print(filename)\n",
    "    run_jupyter(filename)"
   ]
  }
 ],
 "metadata": {
  "kernelspec": {
   "display_name": "Python 3 (ipykernel)",
   "language": "python",
   "name": "python3"
  },
  "language_info": {
   "codemirror_mode": {
    "name": "ipython",
    "version": 3
   },
   "file_extension": ".py",
   "mimetype": "text/x-python",
   "name": "python",
   "nbconvert_exporter": "python",
   "pygments_lexer": "ipython3",
   "version": "3.9.13"
  }
 },
 "nbformat": 4,
 "nbformat_minor": 5
}
