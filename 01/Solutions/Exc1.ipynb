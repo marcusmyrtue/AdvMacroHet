{
 "cells": [
  {
   "cell_type": "markdown",
   "id": "5338a8e8-1837-44bb-bce9-995cccf2fcd4",
   "metadata": {},
   "source": [
    "# Excercises from 1st Lecture"
   ]
  },
  {
   "cell_type": "markdown",
   "id": "b7f36501-8f6d-4fdc-afed-cf6d03e68efa",
   "metadata": {},
   "source": [
    "Setup:"
   ]
  },
  {
   "cell_type": "code",
   "execution_count": 214,
   "id": "3d753bcb-7f22-4167-b749-78f2329eb09c",
   "metadata": {},
   "outputs": [
    {
     "name": "stdout",
     "output_type": "stream",
     "text": [
      "The autoreload extension is already loaded. To reload it, use:\n",
      "  %reload_ext autoreload\n"
     ]
    }
   ],
   "source": [
    "%load_ext autoreload\n",
    "%autoreload 2\n",
    "\n",
    "import numpy as np\n",
    "import numba as nb\n",
    "\n",
    "import matplotlib.pyplot as plt\n",
    "plt.style.use('seaborn-whitegrid')\n",
    "prop_cycle = plt.rcParams['axes.prop_cycle']\n",
    "colors = prop_cycle.by_key()['color']\n",
    "\n",
    "from EconModel import EconModelClass, jit  \n",
    "\n",
    "from ConSavModel_exc import ConSavModelClass"
   ]
  },
  {
   "cell_type": "markdown",
   "id": "27d72d43-2389-40d9-ac5e-176e6362bc81",
   "metadata": {},
   "source": [
    "Initialize the model:"
   ]
  },
  {
   "cell_type": "code",
   "execution_count": 215,
   "id": "5747c06d-9494-4623-8d14-ed5f1db2e135",
   "metadata": {},
   "outputs": [],
   "source": [
    "model_b = ConSavModelClass()\n",
    "model_org = model_b.copy(name='model_original') "
   ]
  },
  {
   "cell_type": "markdown",
   "id": "c3953ea6-4e32-48df-b106-eb595f282fe4",
   "metadata": {},
   "source": [
    "Namespaces"
   ]
  },
  {
   "cell_type": "code",
   "execution_count": 216,
   "id": "464dc91b-cdd8-4a5e-8047-89bce1362242",
   "metadata": {},
   "outputs": [],
   "source": [
    "# test model\n",
    "par = model_b.par\n",
    "sol = model_b.sol\n",
    "sim = model_b.sim\n",
    "\n",
    "# original model\n",
    "par_orig = model_org.par\n",
    "sol_orig = model_org.sol\n",
    "sim_orig = model_org.sim"
   ]
  },
  {
   "cell_type": "code",
   "execution_count": 218,
   "id": "07724d8a-52d0-4840-a6a0-6f8a212e2728",
   "metadata": {},
   "outputs": [
    {
     "name": "stdout",
     "output_type": "stream",
     "text": [
      "-0.8 7\n",
      "0.0 7\n"
     ]
    }
   ],
   "source": [
    "# Test parameters\n",
    "par.b = -0.8\n",
    "par.Nz = 7\n",
    "print(par.b,par.Nz)\n",
    "\n",
    "# Original model \n",
    "par_orig.b = 0.\n",
    "par_orig.Nz = 7\n",
    "print(par_orig.b,par_orig.Nz)"
   ]
  },
  {
   "cell_type": "markdown",
   "id": "b1414f3d-db4c-4afb-adad-a262c56371e1",
   "metadata": {},
   "source": [
    "Solve the model"
   ]
  },
  {
   "cell_type": "code",
   "execution_count": 219,
   "id": "dba6d10f-f2ef-4b07-9064-1a147f718bf7",
   "metadata": {},
   "outputs": [
    {
     "name": "stdout",
     "output_type": "stream",
     "text": [
      "iteration    0 solved in 31.4 secs  [max abs. diff. 2.01e+00]\n",
      "iteration    1 solved in 0.1 secs   [max abs. diff. 1.87e+00]\n",
      "iteration    2 solved in 0.1 secs   [max abs. diff. 1.75e+00]\n",
      "iteration    3 solved in 0.2 secs   [max abs. diff. 1.63e+00]\n",
      "iteration    4 solved in 0.2 secs   [max abs. diff. 1.52e+00]\n",
      "iteration    5 solved in 0.1 secs   [max abs. diff. 1.41e+00]\n",
      "iteration    6 solved in 0.2 secs   [max abs. diff. 1.31e+00]\n",
      "iteration    7 solved in 0.1 secs   [max abs. diff. 1.22e+00]\n",
      "iteration    8 solved in 0.2 secs   [max abs. diff. 1.13e+00]\n",
      "iteration    9 solved in 0.1 secs   [max abs. diff. 1.05e+00]\n",
      "iteration  100 solved in 0.1 secs   [max abs. diff. 4.23e-04]\n",
      "iteration  200 solved in 0.1 secs   [max abs. diff. 1.44e-07]\n",
      "iteration  234 solved in 0.1 secs   [max abs. diff. 9.58e-09]\n",
      "model solved in 57.7 secs\n"
     ]
    }
   ],
   "source": [
    "model_b.solve(do_print=True, algo='vfi')"
   ]
  },
  {
   "cell_type": "code",
   "execution_count": 220,
   "id": "0714a93f-815a-4b56-80b1-3f909c442203",
   "metadata": {},
   "outputs": [
    {
     "name": "stdout",
     "output_type": "stream",
     "text": [
      "iteration    0 solved in 27.0 secs  [max abs. diff.   inf]\n"
     ]
    },
    {
     "name": "stderr",
     "output_type": "stream",
     "text": [
      "/Users/marcusmyrtuechristiansen/Documents/Polit/HAM/AdvMacroHet/01/Solutions/ConSavModel_exc.py:157: RuntimeWarning: invalid value encountered in subtract\n",
      "  sim.Dbeg[0,:,0] = par.z_ergodic\n"
     ]
    },
    {
     "name": "stdout",
     "output_type": "stream",
     "text": [
      "iteration    1 solved in 0.2 secs   [max abs. diff.   nan]\n",
      "iteration    2 solved in 0.3 secs   [max abs. diff.   nan]\n",
      "iteration    3 solved in 0.2 secs   [max abs. diff.   nan]\n",
      "iteration    4 solved in 0.3 secs   [max abs. diff.   nan]\n",
      "iteration    5 solved in 0.3 secs   [max abs. diff.   nan]\n",
      "iteration    6 solved in 0.3 secs   [max abs. diff.   nan]\n",
      "iteration    7 solved in 0.3 secs   [max abs. diff.   nan]\n",
      "iteration    8 solved in 0.3 secs   [max abs. diff.   nan]\n",
      "iteration    9 solved in 0.3 secs   [max abs. diff.   nan]\n",
      "iteration  100 solved in 0.4 secs   [max abs. diff.   nan]\n",
      "iteration  200 solved in 0.3 secs   [max abs. diff.   nan]\n",
      "iteration  300 solved in 0.3 secs   [max abs. diff.   nan]\n",
      "iteration  400 solved in 0.3 secs   [max abs. diff.   nan]\n",
      "iteration  500 solved in 0.3 secs   [max abs. diff.   nan]\n",
      "iteration  600 solved in 0.3 secs   [max abs. diff.   nan]\n",
      "iteration  700 solved in 0.3 secs   [max abs. diff.   nan]\n",
      "iteration  800 solved in 0.3 secs   [max abs. diff.   nan]\n",
      "iteration  900 solved in 0.3 secs   [max abs. diff.   nan]\n",
      "iteration 1000 solved in 0.3 secs   [max abs. diff.   nan]\n",
      "iteration 1100 solved in 0.3 secs   [max abs. diff.   nan]\n",
      "Unexpected exception formatting exception. Falling back to standard exception\n"
     ]
    },
    {
     "name": "stderr",
     "output_type": "stream",
     "text": [
      "Traceback (most recent call last):\n",
      "  File \"/Users/marcusmyrtuechristiansen/Documents/Polit/HAM/AdvMacroHet/01/Solutions/ConSavModel_exc.py\", line 156, in solve\n",
      "    solve_hh_backwards_vfi(par,vbeg_plus,c_plus,sol.vbeg,sol.c,sol.a)\n",
      "KeyboardInterrupt\n",
      "Traceback (most recent call last):\n",
      "  File \"/Users/marcusmyrtuechristiansen/opt/anaconda3/lib/python3.9/site-packages/IPython/core/interactiveshell.py\", line 3369, in run_code\n",
      "    exec(code_obj, self.user_global_ns, self.user_ns)\n",
      "  File \"/var/folders/dm/dh79dpd138d4hnwl82qqy1gm0000gn/T/ipykernel_67965/3264876646.py\", line 1, in <cell line: 1>\n",
      "    model_org.solve(do_print=True, algo='vfi')\n",
      "  File \"/Users/marcusmyrtuechristiansen/Documents/Polit/HAM/AdvMacroHet/01/Solutions/ConSavModel_exc.py\", line 156, in solve\n",
      "    solve_hh_backwards_vfi(par,vbeg_plus,c_plus,sol.vbeg,sol.c,sol.a)\n",
      "KeyboardInterrupt\n",
      "\n",
      "During handling of the above exception, another exception occurred:\n",
      "\n",
      "Traceback (most recent call last):\n",
      "  File \"/Users/marcusmyrtuechristiansen/opt/anaconda3/lib/python3.9/site-packages/IPython/core/interactiveshell.py\", line 1982, in showtraceback\n",
      "    stb = self.InteractiveTB.structured_traceback(\n",
      "  File \"/Users/marcusmyrtuechristiansen/opt/anaconda3/lib/python3.9/site-packages/IPython/core/ultratb.py\", line 1118, in structured_traceback\n",
      "    return FormattedTB.structured_traceback(\n",
      "  File \"/Users/marcusmyrtuechristiansen/opt/anaconda3/lib/python3.9/site-packages/IPython/core/ultratb.py\", line 1012, in structured_traceback\n",
      "    return VerboseTB.structured_traceback(\n",
      "  File \"/Users/marcusmyrtuechristiansen/opt/anaconda3/lib/python3.9/site-packages/IPython/core/ultratb.py\", line 865, in structured_traceback\n",
      "    formatted_exception = self.format_exception_as_a_whole(etype, evalue, etb, number_of_lines_of_context,\n",
      "  File \"/Users/marcusmyrtuechristiansen/opt/anaconda3/lib/python3.9/site-packages/IPython/core/ultratb.py\", line 818, in format_exception_as_a_whole\n",
      "    frames.append(self.format_record(r))\n",
      "  File \"/Users/marcusmyrtuechristiansen/opt/anaconda3/lib/python3.9/site-packages/IPython/core/ultratb.py\", line 736, in format_record\n",
      "    result += ''.join(_format_traceback_lines(frame_info.lines, Colors, self.has_colors, lvals))\n",
      "  File \"/Users/marcusmyrtuechristiansen/opt/anaconda3/lib/python3.9/site-packages/stack_data/utils.py\", line 145, in cached_property_wrapper\n",
      "    value = obj.__dict__[self.func.__name__] = self.func(obj)\n",
      "  File \"/Users/marcusmyrtuechristiansen/opt/anaconda3/lib/python3.9/site-packages/stack_data/core.py\", line 698, in lines\n",
      "    pieces = self.included_pieces\n",
      "  File \"/Users/marcusmyrtuechristiansen/opt/anaconda3/lib/python3.9/site-packages/stack_data/utils.py\", line 145, in cached_property_wrapper\n",
      "    value = obj.__dict__[self.func.__name__] = self.func(obj)\n",
      "  File \"/Users/marcusmyrtuechristiansen/opt/anaconda3/lib/python3.9/site-packages/stack_data/core.py\", line 649, in included_pieces\n",
      "    pos = scope_pieces.index(self.executing_piece)\n",
      "  File \"/Users/marcusmyrtuechristiansen/opt/anaconda3/lib/python3.9/site-packages/stack_data/utils.py\", line 145, in cached_property_wrapper\n",
      "    value = obj.__dict__[self.func.__name__] = self.func(obj)\n",
      "  File \"/Users/marcusmyrtuechristiansen/opt/anaconda3/lib/python3.9/site-packages/stack_data/core.py\", line 628, in executing_piece\n",
      "    return only(\n",
      "  File \"/Users/marcusmyrtuechristiansen/opt/anaconda3/lib/python3.9/site-packages/executing/executing.py\", line 164, in only\n",
      "    raise NotOneValueFound('Expected one value, found 0')\n",
      "executing.executing.NotOneValueFound: Expected one value, found 0\n"
     ]
    }
   ],
   "source": [
    "model_org.solve(do_print=True, algo='vfi')"
   ]
  },
  {
   "cell_type": "markdown",
   "id": "055203b1-f2a8-4d07-a68d-00b4118f56df",
   "metadata": {},
   "source": [
    " "
   ]
  },
  {
   "cell_type": "code",
   "execution_count": 222,
   "id": "b20b97c8-551d-45be-8389-5185fb783b48",
   "metadata": {},
   "outputs": [
    {
     "data": {
      "text/plain": [
       "\"\\n# Standard model\\nax = fig.add_subplot(1,2,2)\\nfor i_z in range(par_orig.Nz):\\n    ax.plot(par_orig.a_grid,sol_orig.a[i_z,:]-par_orig.a_grid)\\n    \\nax.set_title(f'Borrowing constraint, b = {par_orig.b:.1f}')\\nax.set_xlabel('$a_{t-1}$')\\nax.set_ylabel('$a_t^{\\\\ast}-a_{t-1}$');\""
      ]
     },
     "execution_count": 222,
     "metadata": {},
     "output_type": "execute_result"
    },
    {
     "data": {
      "image/png": "[encoded data removed]",
      "text/plain": [
       "<Figure size 864x288 with 1 Axes>"
      ]
     },
     "metadata": {},
     "output_type": "display_data"
    }
   ],
   "source": [
    "# Adjusted model\n",
    "fig = plt.figure(figsize=(12,4))\n",
    "ax = fig.add_subplot(1,2,1,sharey=ax)\n",
    "for i_z in range(par.Nz):\n",
    "    ax.plot(par.a_grid,sol.a[i_z,:]-par.a_grid)\n",
    "    \n",
    "ax.set_title(f'Borrowing constraint, b = {par.b:.1f}')\n",
    "ax.set_xlabel('$a_{t-1}$')\n",
    "ax.set_ylabel('$a_t^{\\\\ast}-a_{t-1}$');\n",
    "\n",
    "\"\"\"\n",
    "# Standard model\n",
    "ax = fig.add_subplot(1,2,2)\n",
    "for i_z in range(par_orig.Nz):\n",
    "    ax.plot(par_orig.a_grid,sol_orig.a[i_z,:]-par_orig.a_grid)\n",
    "    \n",
    "ax.set_title(f'Borrowing constraint, b = {par_orig.b:.1f}')\n",
    "ax.set_xlabel('$a_{t-1}$')\n",
    "ax.set_ylabel('$a_t^{\\\\ast}-a_{t-1}$');\"\"\""
   ]
  },
  {
   "cell_type": "markdown",
   "id": "561d8510-c75c-4484-836b-7df8fc717442",
   "metadata": {},
   "source": [
    "Shows values for graphs above:"
   ]
  },
  {
   "cell_type": "code",
   "execution_count": 225,
   "id": "e23d5b2f-3860-44fa-9aea-e4c2db6f338d",
   "metadata": {},
   "outputs": [
    {
     "name": "stdout",
     "output_type": "stream",
     "text": [
      "|    Z-state:   1   |\n",
      "|  b=-0.8    b=0.0  |\n",
      "|-------------------|\n",
      "|  -0.70  |   0.01  |\n",
      "|  -0.70  |   0.00  |\n",
      "|  -0.71  |  -0.00  |\n",
      "|  -0.71  |  -0.00  |\n",
      "|  -0.71  |  -0.01  |\n",
      "|  -0.72  |  -0.01  |\n",
      "|  -0.72  |  -0.01  |\n",
      "|  -0.72  |  -0.02  |\n",
      "|  -0.73  |  -0.02  |\n",
      "|  -0.73  |  -0.02  |\n",
      "|  -0.73  |  -0.03  |\n",
      "|  -0.74  |  -0.03  |\n",
      "|  -0.74  |  -0.03  |\n",
      "|  -0.74  |  -0.04  |\n",
      "|  -0.75  |  -0.04  |\n",
      "|  -0.75  |  -0.04  |\n",
      "|  -0.75  |  -0.05  |\n",
      "|  -0.76  |  -0.05  |\n",
      "|  -0.76  |  -0.05  |\n",
      "|  -0.76  |  -0.06  |\n",
      "|  -0.77  |  -0.06  |\n",
      "|  -0.77  |  -0.07  |\n",
      "|  -0.77  |  -0.07  |\n",
      "|  -0.77  |  -0.07  |\n",
      "|  -0.77  |  -0.08  |\n",
      "|  -0.77  |  -0.08  |\n",
      "|  -0.77  |  -0.08  |\n",
      "|  -0.77  |  -0.09  |\n",
      "|  -0.77  |  -0.09  |\n",
      "|  -0.77  |  -0.10  |\n",
      "|  -0.77  |  -0.10  |\n",
      "|  -0.77  |  -0.11  |\n",
      "|  -0.77  |  -0.11  |\n",
      "|  -0.77  |  -0.11  |\n",
      "|  -0.77  |  -0.12  |\n",
      "|  -0.77  |  -0.12  |\n",
      "|  -0.77  |  -0.13  |\n",
      "|  -0.77  |  -0.13  |\n",
      "|  -0.77  |  -0.14  |\n",
      "|  -0.76  |  -0.14  |\n",
      "|  -0.76  |  -0.15  |\n",
      "|  -0.76  |  -0.15  |\n",
      "|  -0.76  |  -0.16  |\n",
      "|  -0.76  |  -0.16  |\n",
      "|  -0.76  |  -0.17  |\n",
      "|  -0.76  |  -0.17  |\n",
      "|  -0.76  |  -0.18  |\n",
      "|  -0.76  |  -0.18  |\n",
      "|  -0.76  |  -0.19  |\n",
      "|  -0.76  |  -0.19  |\n",
      "|  -0.76  |  -0.20  |\n",
      "|  -0.76  |  -0.20  |\n",
      "|  -0.76  |  -0.21  |\n",
      "|  -0.76  |  -0.21  |\n",
      "|  -0.76  |  -0.22  |\n",
      "|  -0.76  |  -0.23  |\n",
      "|  -0.76  |  -0.23  |\n",
      "|  -0.76  |  -0.24  |\n",
      "|  -0.76  |  -0.24  |\n",
      "|  -0.76  |  -0.25  |\n",
      "|  -0.76  |  -0.26  |\n",
      "|  -0.76  |  -0.26  |\n",
      "|  -0.76  |  -0.27  |\n",
      "|  -0.76  |  -0.27  |\n",
      "|  -0.76  |  -0.28  |\n",
      "|  -0.76  |  -0.29  |\n",
      "|  -0.76  |  -0.29  |\n",
      "|  -0.76  |  -0.30  |\n",
      "|  -0.76  |  -0.31  |\n",
      "|  -0.76  |  -0.31  |\n",
      "|  -0.76  |  -0.32  |\n",
      "|  -0.76  |  -0.33  |\n",
      "|  -0.76  |  -0.33  |\n",
      "|  -0.76  |  -0.34  |\n",
      "|  -0.76  |  -0.35  |\n",
      "|  -0.76  |  -0.36  |\n",
      "|  -0.76  |  -0.36  |\n",
      "|  -0.76  |  -0.37  |\n",
      "|  -0.76  |  -0.38  |\n",
      "|  -0.76  |  -0.39  |\n",
      "|  -0.76  |  -0.39  |\n",
      "|  -0.76  |  -0.40  |\n",
      "|  -0.76  |  -0.41  |\n",
      "|  -0.76  |  -0.42  |\n",
      "|  -0.76  |  -0.43  |\n",
      "|  -0.76  |  -0.43  |\n",
      "|  -0.76  |  -0.44  |\n",
      "|  -0.76  |  -0.45  |\n",
      "|  -0.76  |  -0.46  |\n",
      "|  -0.76  |  -0.47  |\n",
      "|  -0.76  |  -0.48  |\n",
      "|  -0.76  |  -0.49  |\n",
      "|  -0.76  |  -0.49  |\n",
      "|  -0.76  |  -0.50  |\n",
      "|  -0.76  |  -0.51  |\n",
      "|  -0.76  |  -0.52  |\n",
      "|  -0.76  |  -0.53  |\n",
      "|  -0.76  |  -0.54  |\n",
      "|  -0.76  |  -0.55  |\n",
      "|  -0.76  |  -0.56  |\n",
      "|  -0.76  |  -0.57  |\n",
      "|  -0.76  |  -0.58  |\n",
      "|  -0.76  |  -0.59  |\n",
      "|  -0.76  |  -0.60  |\n",
      "|  -0.76  |  -0.61  |\n",
      "|  -0.76  |  -0.62  |\n",
      "|  -0.76  |  -0.63  |\n",
      "|  -0.75  |  -0.64  |\n",
      "|  -0.75  |  -0.65  |\n",
      "|  -0.75  |  -0.66  |\n",
      "|  -0.75  |  -0.67  |\n",
      "|  -0.75  |  -0.69  |\n",
      "|  -0.75  |  -0.70  |\n",
      "|  -0.75  |  -0.71  |\n",
      "|  -0.75  |  -0.72  |\n",
      "|  -0.75  |  -0.73  |\n",
      "|  -0.75  |  -0.74  |\n",
      "|  -0.76  |  -0.76  |\n",
      "|  -0.76  |  -0.77  |\n",
      "|  -0.77  |  -0.78  |\n",
      "|  -0.77  |  -0.79  |\n",
      "|  -0.78  |  -0.81  |\n",
      "|  -0.78  |  -0.82  |\n",
      "|  -0.78  |  -0.83  |\n",
      "|  -0.79  |  -0.84  |\n",
      "|  -0.79  |  -0.86  |\n",
      "|  -0.79  |  -0.87  |\n",
      "|  -0.79  |  -0.88  |\n",
      "|  -0.79  |  -0.90  |\n",
      "|  -0.79  |  -0.91  |\n",
      "|  -0.79  |  -0.93  |\n",
      "|  -0.79  |  -0.94  |\n",
      "|  -0.79  |  -0.96  |\n",
      "|  -0.79  |  -0.97  |\n",
      "|  -0.79  |  -0.98  |\n",
      "|  -0.79  |  -1.00  |\n",
      "|  -0.79  |  -1.01  |\n",
      "|  -0.79  |  -1.03  |\n",
      "|  -0.79  |  -1.05  |\n",
      "|  -0.79  |  -0.57  |\n",
      "|  -0.79  |  -0.58  |\n",
      "|  -0.79  |  -0.59  |\n",
      "|  -0.79  |  -0.59  |\n",
      "|  -0.79  |  -0.60  |\n",
      "|  -0.78  |  -0.61  |\n",
      "|  -0.78  |  -0.62  |\n",
      "|  -0.78  |  -0.63  |\n",
      "|  -0.78  |  -0.64  |\n",
      "|  -0.78  |  -0.65  |\n",
      "|  -0.78  |  -0.66  |\n"
     ]
    }
   ],
   "source": [
    "N_beg =  0\n",
    "N_end = 150    # max = 500\n",
    "Z_state = 1\n",
    "\n",
    "print(f'|    Z-state: {Z_state:3d}   |')\n",
    "print(f'|  b={par.b:.1f}    b={par_orig.b:.1f}  |')\n",
    "print('|-------------------|')\n",
    "\n",
    "for i,j in zip(sol.a[Z_state,N_beg:N_end]-par.a_grid[N_beg:N_end],sol_orig.a[Z_state,N_beg:N_end]-par_orig.a_grid[N_beg:N_end]):\n",
    "    if i < 0 and j < 0:\n",
    "        print(f'|  {i:.2f}  |  {j:.2f}  |')\n",
    "    elif i < 0 and j >= 0:\n",
    "        print(f'|  {i:.2f}  |   {j:.2f}  |')\n",
    "    elif i >= 0 and j < 0:\n",
    "        print(f'|   {i:.2f}  |  {j:.2f}  |')\n",
    "    else:\n",
    "        print(f'|   {i:.2f}  |   {j:.2f}  |')\n",
    "    "
   ]
  },
  {
   "cell_type": "code",
   "execution_count": 281,
   "id": "f3f45aaf-014a-4410-bb82-0f3fef11fe56",
   "metadata": {},
   "outputs": [
    {
     "name": "stdout",
     "output_type": "stream",
     "text": [
      "[0.99997143 0.99998644 1.         1.00001356 1.00002857]\n",
      "[0.01125741 0.22207592 0.53333333 0.22207592 0.01125741]\n",
      "[[0.01125709]\n",
      " [0.22207291]\n",
      " [0.53333333]\n",
      " [0.22207893]\n",
      " [0.01125773]]\n",
      "Sum of a = 1.000000\n"
     ]
    },
    {
     "ename": "ValueError",
     "evalue": "operands could not be broadcast together with shapes (35,) (50,) ",
     "output_type": "error",
     "traceback": [
      "\u001b[0;31m---------------------------------------------------------------------------\u001b[0m",
      "\u001b[0;31mValueError\u001b[0m                                Traceback (most recent call last)",
      "Input \u001b[0;32mIn [281]\u001b[0m, in \u001b[0;36m<cell line: 29>\u001b[0;34m()\u001b[0m\n\u001b[1;32m     26\u001b[0m Nzc \u001b[38;5;241m=\u001b[39m Nxi\u001b[38;5;241m*\u001b[39mpar\u001b[38;5;241m.\u001b[39mNz\n\u001b[1;32m     28\u001b[0m \u001b[38;5;66;03m# par.z_grid = np.repeat(par.xi_grid,par.Nzt)*np.tile(par.zt_grid,par.Nxi)\u001b[39;00m\n\u001b[0;32m---> 29\u001b[0m z_grid \u001b[38;5;241m=\u001b[39m \u001b[43mnp\u001b[49m\u001b[38;5;241;43m.\u001b[39;49m\u001b[43mrepeat\u001b[49m\u001b[43m(\u001b[49m\u001b[43mxi_grid\u001b[49m\u001b[43m,\u001b[49m\u001b[43mpar\u001b[49m\u001b[38;5;241;43m.\u001b[39;49m\u001b[43mNz\u001b[49m\u001b[43m)\u001b[49m\u001b[38;5;241;43m*\u001b[39;49m\u001b[43mnp\u001b[49m\u001b[38;5;241;43m.\u001b[39;49m\u001b[43mtile\u001b[49m\u001b[43m(\u001b[49m\u001b[43mpar\u001b[49m\u001b[38;5;241;43m.\u001b[39;49m\u001b[43mz_grid\u001b[49m\u001b[43m,\u001b[49m\u001b[43mNxi\u001b[49m\u001b[43m)\u001b[49m \n\u001b[1;32m     30\u001b[0m \u001b[38;5;28mprint\u001b[39m(par\u001b[38;5;241m.\u001b[39mz_grid\u001b[38;5;241m.\u001b[39msize,z_grid\u001b[38;5;241m.\u001b[39msize)\n\u001b[1;32m     31\u001b[0m \u001b[38;5;28mprint\u001b[39m(par\u001b[38;5;241m.\u001b[39mz_grid,\u001b[38;5;124m'\u001b[39m\u001b[38;5;130;01m\\n\u001b[39;00m\u001b[38;5;124m'\u001b[39m)\n",
      "\u001b[0;31mValueError\u001b[0m: operands could not be broadcast together with shapes (35,) (50,) "
     ]
    }
   ],
   "source": [
    "# testing \n",
    "from consav.quadrature import log_normal_gauss_hermite\n",
    "\n",
    "sigma_xi = 0.00001\n",
    "Nxi = 5\n",
    "xi_grid, xi_weights = log_normal_gauss_hermite(sigma_xi,Nxi) \n",
    "\n",
    "print(xi_grid)\n",
    "print(xi_weights)\n",
    "\n",
    "a = np.zeros((Nxi,1))\n",
    "ii = 0\n",
    "for i,j in zip(xi_grid,xi_weights):\n",
    "    a[ii,0] = i * j\n",
    "    ii += 1\n",
    "    \n",
    "print(a)\n",
    "print(f'Sum of a = {np.sum(a):.6f}')\n",
    "\n",
    "\n",
    "# broadcast_to(par.xi_weights,(par.Nxi,par.Nxi))\n",
    "bc_xi = np.broadcast_to(xi_weights,(Nxi,Nxi)) \n",
    "\n",
    "\n",
    "# combined\n",
    "Nzc = Nxi*par.Nz\n",
    "\n",
    "# par.z_grid = np.repeat(par.xi_grid,par.Nzt)*np.tile(par.zt_grid,par.Nxi)\n",
    "z_grid = np.repeat(xi_grid,par.Nz)*np.tile(par.z_grid,Nxi) \n",
    "print(par.z_grid.size,z_grid.size)\n",
    "print(par.z_grid,'\\n')\n",
    "print('np.repeat\\n',np.repeat(xi_grid,par.Nz),'\\n')\n",
    "print(np.tile(par.z_grid,Nxi),'\\n')\n",
    "print(z_grid)\n",
    "\n",
    "\n",
    "\n"
   ]
  },
  {
   "cell_type": "code",
   "execution_count": 232,
   "id": "766dfdcc-e35f-446e-9a58-6314fc296ed1",
   "metadata": {},
   "outputs": [],
   "source": [
    "from consav.linear_interp import binary_search, interp_1d"
   ]
  },
  {
   "cell_type": "code",
   "execution_count": 314,
   "id": "22a0512e-4b69-4bc3-9c0b-54d71074215b",
   "metadata": {},
   "outputs": [],
   "source": [
    "Nz = 7\n",
    "Na = 11\n",
    "a_max = 10\n",
    "a_grid = np.linspace(10,20,6)  ## np.linspace(0,a_max,Na)\n",
    "vbeg_plus = np.linspace(20,30,6)\n",
    "vbeg_plus_2 = np.broadcast_to(np.linspace(10,20,5),(5,5)) # np.zeros((Nz,Na))\n",
    "a = 2\n",
    "i_z = 1"
   ]
  },
  {
   "cell_type": "code",
   "execution_count": 315,
   "id": "8eb68466-8b54-4759-a754-33733a99e48a",
   "metadata": {},
   "outputs": [
    {
     "name": "stdout",
     "output_type": "stream",
     "text": [
      "[10. 12. 14. 16. 18. 20.] \n",
      " 1 x 6 \n",
      "\n",
      "[20. 22. 24. 26. 28. 30.] \n",
      " 7 x 11\n"
     ]
    }
   ],
   "source": [
    "print(a_grid,'\\n','1 x',a_grid.size,'\\n')\n",
    "\n",
    "print(vbeg_plus,'\\n',Nz,'x',Na)"
   ]
  },
  {
   "cell_type": "code",
   "execution_count": 336,
   "id": "d96d0800-29a9-4d82-8fb7-d497d3e460a1",
   "metadata": {},
   "outputs": [
    {
     "data": {
      "text/plain": [
       "-7.0"
      ]
     },
     "execution_count": 336,
     "metadata": {},
     "output_type": "execute_result"
    }
   ],
   "source": [
    "# vbeg_plus_interp = interp_1d(a_grid,vbeg_plus[i_z,:],a)\n",
    "\n",
    "vbeg_plus = np.linspace(20,50,6)\n",
    "\n",
    "interp_1d(a_grid,vbeg_plus,1)\n"
   ]
  },
  {
   "cell_type": "code",
   "execution_count": null,
   "id": "e2780766-d58d-47f9-bb5b-48e45690e89f",
   "metadata": {},
   "outputs": [],
   "source": []
  }
 ],
 "metadata": {
  "kernelspec": {
   "display_name": "Python 3 (ipykernel)",
   "language": "python",
   "name": "python3"
  },
  "language_info": {
   "codemirror_mode": {
    "name": "ipython",
    "version": 3
   },
   "file_extension": ".py",
   "mimetype": "text/x-python",
   "name": "python",
   "nbconvert_exporter": "python",
   "pygments_lexer": "ipython3",
   "version": "3.9.12"
  }
 },
 "nbformat": 4,
 "nbformat_minor": 5
}
